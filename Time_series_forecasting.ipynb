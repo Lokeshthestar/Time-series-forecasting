{
 "cells": [
  {
   "cell_type": "markdown",
   "id": "264abdc2",
   "metadata": {},
   "source": [
    "# Stock market forecasting using Time Series analysis"
   ]
  },
  {
   "cell_type": "markdown",
   "id": "313a055d",
   "metadata": {},
   "source": [
    "### What is a Stock market?"
   ]
  },
  {
   "cell_type": "markdown",
   "id": "8c5e4856",
   "metadata": {},
   "source": [
    "The stock market is a market that enables the seamless exchange of buying and selling of company stocks. Every Stock Exchange has its own Stock Index value. The index is the average value that is calculated by combining several stocks. This helps in representing the entire stock market and predicting the market’s movement over time. The stock market can have a huge impact on people and the country’s economy as a whole. Therefore, predicting the stock trends in an efficient manner can minimize the risk of loss and maximize profit."
   ]
  },
  {
   "cell_type": "markdown",
   "id": "2478db31",
   "metadata": {},
   "source": [
    "**Here in this notebook we will forecast the stock price of ARCH CAPITAL GROUP using ARIMA model**"
   ]
  },
  {
   "cell_type": "code",
   "execution_count": null,
   "id": "d298432b",
   "metadata": {},
   "outputs": [],
   "source": []
  }
 ],
 "metadata": {
  "kernelspec": {
   "display_name": "Python 3 (ipykernel)",
   "language": "python",
   "name": "python3"
  },
  "language_info": {
   "codemirror_mode": {
    "name": "ipython",
    "version": 3
   },
   "file_extension": ".py",
   "mimetype": "text/x-python",
   "name": "python",
   "nbconvert_exporter": "python",
   "pygments_lexer": "ipython3",
   "version": "3.9.7"
  }
 },
 "nbformat": 4,
 "nbformat_minor": 5
}
